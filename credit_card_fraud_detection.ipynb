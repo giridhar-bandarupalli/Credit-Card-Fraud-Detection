# This was used while running the model in Google Colab
# from google.colab import drive
# drive.mount('/content/drive')
# Importing the libraries
import pandas as pd
import numpy as np
